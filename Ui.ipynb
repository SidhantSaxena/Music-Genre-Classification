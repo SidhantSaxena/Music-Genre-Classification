{
 "cells": [
  {
   "cell_type": "code",
   "execution_count": 1,
   "id": "a30ccd0f",
   "metadata": {},
   "outputs": [],
   "source": [
    "from PyQt5 import QtWidgets,uic,QtCore, QtGui\n",
    "from PyQt5.QtGui import QPixmap\n",
    "from playsound import playsound\n",
    "import sys"
   ]
  },
  {
   "cell_type": "code",
   "execution_count": 2,
   "id": "abdf6782",
   "metadata": {},
   "outputs": [],
   "source": [
    "from keras.models import load_model\n",
    "import librosa\n",
    "import librosa.display\n",
    "import matplotlib.pyplot as pt\n",
    "import numpy as np\n",
    "import os\n",
    "import pandas as pd"
   ]
  },
  {
   "cell_type": "code",
   "execution_count": 3,
   "id": "da95e266",
   "metadata": {},
   "outputs": [],
   "source": [
    "from sklearn.preprocessing import LabelEncoder\n",
    "from tensorflow.keras.utils import to_categorical"
   ]
  },
  {
   "cell_type": "code",
   "execution_count": 4,
   "id": "15f86021",
   "metadata": {},
   "outputs": [],
   "source": [
    "mdata = pd.read_csv('Music/Data/features_30_sec.csv')"
   ]
  },
  {
   "cell_type": "code",
   "execution_count": 5,
   "id": "ce4e9880",
   "metadata": {},
   "outputs": [
    {
     "data": {
      "text/plain": [
       "array([[1., 0., 0., ..., 0., 0., 0.],\n",
       "       [1., 0., 0., ..., 0., 0., 0.],\n",
       "       [1., 0., 0., ..., 0., 0., 0.],\n",
       "       ...,\n",
       "       [0., 0., 0., ..., 0., 0., 1.],\n",
       "       [0., 0., 0., ..., 0., 0., 1.],\n",
       "       [0., 0., 0., ..., 0., 0., 1.]], dtype=float32)"
      ]
     },
     "execution_count": 5,
     "metadata": {},
     "output_type": "execute_result"
    }
   ],
   "source": [
    "lab = LabelEncoder()\n",
    "y = mdata['label']\n",
    "y = to_categorical(lab.fit_transform(y))\n",
    "y"
   ]
  },
  {
   "cell_type": "code",
   "execution_count": 6,
   "id": "462531f2",
   "metadata": {},
   "outputs": [],
   "source": [
    "def extract_features(f):\n",
    "    aud_data,aud_rate=librosa.load(f)\n",
    "    m=librosa.feature.mfcc(y=aud_data,sr=aud_rate,n_mfcc=40)\n",
    "    return np.mean(m.T,axis=0,dtype=float)"
   ]
  },
  {
   "cell_type": "code",
   "execution_count": 7,
   "id": "ce7804bc",
   "metadata": {},
   "outputs": [],
   "source": [
    "model = load_model('final_model/music_genre_final.h5')"
   ]
  },
  {
   "cell_type": "code",
   "execution_count": 8,
   "id": "5cff69e8",
   "metadata": {},
   "outputs": [
    {
     "name": "stdout",
     "output_type": "stream",
     "text": [
      "1/1 [==============================] - 0s 299ms/step\n"
     ]
    },
    {
     "data": {
      "text/plain": [
       "array(['metal'], dtype=object)"
      ]
     },
     "execution_count": 8,
     "metadata": {},
     "output_type": "execute_result"
    }
   ],
   "source": [
    "file = 'Music/Data/genres_original/metal/metal.00033.wav'\n",
    "pr_feat = extract_features(file).reshape(1,-1)\n",
    "output=model.predict(pr_feat)\n",
    "a=np.argmax(output,axis=1)\n",
    "cl = lab.inverse_transform(a)\n",
    "cl"
   ]
  },
  {
   "cell_type": "code",
   "execution_count": 9,
   "id": "0632ccc3",
   "metadata": {},
   "outputs": [],
   "source": [
    "def load_imag():\n",
    "    img = QPixmap(\"output.png\")\n",
    "    win.imag.setPixmap(img)\n",
    "    os.remove('output.png')"
   ]
  },
  {
   "cell_type": "code",
   "execution_count": 10,
   "id": "8139fd38",
   "metadata": {},
   "outputs": [],
   "source": [
    "def upload():\n",
    "    file = win.inp.text()\n",
    "    if \"\\\\\" in file:\n",
    "        file.replace('\\\\','/')\n",
    "    data,sample_rate = librosa.load(file)\n",
    "    x=librosa.display.waveshow(data,sr=sample_rate)\n",
    "#     pt.axis('off')\n",
    "    pt.savefig('output.png')\n",
    "    pt.clf()\n",
    "    load_imag()"
   ]
  },
  {
   "cell_type": "code",
   "execution_count": 11,
   "id": "41bd2385",
   "metadata": {},
   "outputs": [],
   "source": [
    "def play():\n",
    "    file = win.inp.text()\n",
    "    if \"\\\\\" in file:\n",
    "        file.replace('\\\\','/')\n",
    "    playsound(file)"
   ]
  },
  {
   "cell_type": "code",
   "execution_count": 12,
   "id": "cf21850a",
   "metadata": {},
   "outputs": [],
   "source": [
    "def predict_():\n",
    "    file = win.inp.text()\n",
    "    if \"\\\\\" in file:\n",
    "        file.replacse('\\\\','/')\n",
    "    pr_feat = extract_features(file).reshape(1,-1)\n",
    "    output=model.predict(pr_feat)\n",
    "    a=np.argmax(output,axis=1)\n",
    "    cl = lab.inverse_transform(a)\n",
    "    win.res_gen.setText(cl[0])"
   ]
  },
  {
   "cell_type": "code",
   "execution_count": 13,
   "id": "1fd8af8a",
   "metadata": {},
   "outputs": [],
   "source": [
    "def getfile():\n",
    "    fileName, _ = QtWidgets.QFileDialog.getOpenFileName(win, 'Single File', QtCore.QDir.rootPath() , '*.wav')\n",
    "    win.inp.setText(fileName)"
   ]
  },
  {
   "cell_type": "code",
   "execution_count": 14,
   "id": "bf6fe75e",
   "metadata": {},
   "outputs": [
    {
     "name": "stdout",
     "output_type": "stream",
     "text": [
      "1/1 [==============================] - 0s 33ms/step\n"
     ]
    },
    {
     "ename": "SystemExit",
     "evalue": "0",
     "output_type": "error",
     "traceback": [
      "An exception has occurred, use %tb to see the full traceback.\n",
      "\u001b[1;31mSystemExit\u001b[0m\u001b[1;31m:\u001b[0m 0\n"
     ]
    },
    {
     "name": "stderr",
     "output_type": "stream",
     "text": [
      "C:\\Program Files\\Python39\\lib\\site-packages\\IPython\\core\\interactiveshell.py:3406: UserWarning: To exit: use 'exit', 'quit', or Ctrl-D.\n",
      "  warn(\"To exit: use 'exit', 'quit', or Ctrl-D.\", stacklevel=1)\n"
     ]
    },
    {
     "data": {
      "text/plain": [
       "<Figure size 432x288 with 0 Axes>"
      ]
     },
     "metadata": {},
     "output_type": "display_data"
    }
   ],
   "source": [
    "qt = QtWidgets.QApplication([])\n",
    "win = uic.loadUi(\"music_ui.ui\")\n",
    "win.show()\n",
    "win.up.clicked.connect(upload)\n",
    "win.play.clicked.connect(play)\n",
    "win.browse.clicked.connect(getfile)\n",
    "win.pre.clicked.connect(predict_)\n",
    "win.quit.clicked.connect(win.close)\n",
    "sys.exit(qt.exec_())"
   ]
  },
  {
   "cell_type": "code",
   "execution_count": null,
   "id": "cc86a341",
   "metadata": {},
   "outputs": [],
   "source": []
  }
 ],
 "metadata": {
  "kernelspec": {
   "display_name": "Python 3 (ipykernel)",
   "language": "python",
   "name": "python3"
  },
  "language_info": {
   "codemirror_mode": {
    "name": "ipython",
    "version": 3
   },
   "file_extension": ".py",
   "mimetype": "text/x-python",
   "name": "python",
   "nbconvert_exporter": "python",
   "pygments_lexer": "ipython3",
   "version": "3.9.13"
  }
 },
 "nbformat": 4,
 "nbformat_minor": 5
}
